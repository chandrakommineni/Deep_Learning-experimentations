{
 "cells": [
  {
   "cell_type": "code",
   "execution_count": 3,
   "id": "4ccf41ca",
   "metadata": {},
   "outputs": [
    {
     "ename": "NameError",
     "evalue": "name 'LossFunctionWithPlot' is not defined",
     "output_type": "error",
     "traceback": [
      "\u001b[1;31m---------------------------------------------------------------------------\u001b[0m",
      "\u001b[1;31mNameError\u001b[0m                                 Traceback (most recent call last)",
      "\u001b[1;32m<ipython-input-3-97b1f8cc16f5>\u001b[0m in \u001b[0;36m<module>\u001b[1;34m\u001b[0m\n\u001b[0;32m      2\u001b[0m \u001b[0mx\u001b[0m\u001b[1;33m.\u001b[0m\u001b[0mrequires_grad\u001b[0m \u001b[1;33m=\u001b[0m \u001b[1;32mTrue\u001b[0m \u001b[1;31m# This tells PyTorch that the x variable will be used to calculate gradients.\u001b[0m\u001b[1;33m\u001b[0m\u001b[1;33m\u001b[0m\u001b[0m\n\u001b[0;32m      3\u001b[0m \u001b[1;33m\u001b[0m\u001b[0m\n\u001b[1;32m----> 4\u001b[1;33m \u001b[0mL\u001b[0m \u001b[1;33m=\u001b[0m \u001b[0mLossFunctionWithPlot\u001b[0m\u001b[1;33m(\u001b[0m\u001b[1;33m)\u001b[0m\u001b[1;33m\u001b[0m\u001b[1;33m\u001b[0m\u001b[0m\n\u001b[0m\u001b[0;32m      5\u001b[0m \u001b[1;33m\u001b[0m\u001b[0m\n\u001b[0;32m      6\u001b[0m \u001b[0mlearning_rate\u001b[0m \u001b[1;33m=\u001b[0m \u001b[1;36m0.1\u001b[0m\u001b[1;33m\u001b[0m\u001b[1;33m\u001b[0m\u001b[0m\n",
      "\u001b[1;31mNameError\u001b[0m: name 'LossFunctionWithPlot' is not defined"
     ]
    }
   ],
   "source": [
    "\n",
    "\n",
    "x = torch.tensor([-1.5, 1.2])\n",
    "x.requires_grad = True # This tells PyTorch that the x variable will be used to calculate gradients.\n",
    "\n",
    "L = LossFunctionWithPlot()\n",
    "\n",
    "learning_rate = 0.1\n",
    "optimizer = torch.optim.SGD([x], lr=learning_rate)\n",
    "grads = []\n",
    "\n",
    "for iter in range(50):\n",
    "    loss = L(x)\n",
    "    loss.backward()\n",
    "    with torch.no_grad():\n",
    "        optimizer.step()\n",
    "    grads.append(x.grad.clone())\n",
    "    optimizer.zero_grad()\n",
    "    \n",
    "\n",
    "grads = torch.stack(grads)\n",
    "\n",
    "###################################################################################\n",
    "# TODO: compute mean derivatives and root mean square derivatives for x[0] and x[1]\n",
    "###################################################################################\n",
    "\n",
    "mean_grads = torch.mean(grads, dim = 0) # should be computed as a pair of means, one for each dimesnion\n",
    "rms_grads = torch.sqrt(torch.sum(grads**2, dim = 0))/grads.shape[0] # should be computed as a pair of root-mean-squares, one for each dimension\n",
    "\n",
    "################################################################################\n",
    "#                             END OF YOUR CODE                                 #\n",
    "################################################################################\n",
    "\n",
    "print('Mean grads for two dimensions separately:', mean_grads)\n",
    "print('Root mean square grads for two dimensions separately:', rms_grads)\n",
    "\n",
    "L.plot_history(grads=grads, mean_grads=mean_grads, rms_grads=rms_grads)"
   ]
  },
  {
   "cell_type": "code",
   "execution_count": 2,
   "id": "d458d561",
   "metadata": {},
   "outputs": [],
   "source": [
    "import torch\n",
    "import matplotlib.pyplot as plt"
   ]
  },
  {
   "cell_type": "code",
   "execution_count": 4,
   "id": "bf33baa6",
   "metadata": {},
   "outputs": [
    {
     "ename": "NameError",
     "evalue": "name 'train_data' is not defined",
     "output_type": "error",
     "traceback": [
      "\u001b[1;31m---------------------------------------------------------------------------\u001b[0m",
      "\u001b[1;31mNameError\u001b[0m                                 Traceback (most recent call last)",
      "\u001b[1;32m<ipython-input-4-1e5fa96e960c>\u001b[0m in \u001b[0;36m<module>\u001b[1;34m\u001b[0m\n\u001b[0;32m     55\u001b[0m     \u001b[0mfig\u001b[0m\u001b[1;33m.\u001b[0m\u001b[0mshow\u001b[0m\u001b[1;33m(\u001b[0m\u001b[1;33m)\u001b[0m\u001b[1;33m\u001b[0m\u001b[1;33m\u001b[0m\u001b[0m\n\u001b[0;32m     56\u001b[0m \u001b[1;33m\u001b[0m\u001b[0m\n\u001b[1;32m---> 57\u001b[1;33m \u001b[0mprint\u001b[0m\u001b[1;33m(\u001b[0m\u001b[1;34mf'Data width {train_data.size(1)}; Constant baseline accuracy {max(test_labels.sum(), len(test_labels) - test_labels.sum()) / len(test_labels):.3f}'\u001b[0m\u001b[1;33m)\u001b[0m\u001b[1;33m\u001b[0m\u001b[1;33m\u001b[0m\u001b[0m\n\u001b[0m",
      "\u001b[1;31mNameError\u001b[0m: name 'train_data' is not defined"
     ]
    }
   ],
   "source": [
    "def run_test(net, optmaker, test_every=10):\n",
    "    # Set up the Loss Function and Optimizer\n",
    "    optimizer = optmaker(net.parameters()) # Initialize the optimizer with model parameters\n",
    "    print(f'{sum([p.numel() for p in net.parameters()])} parameters')\n",
    "    train_losses, train_accs, test_accs = [], [], []\n",
    "\n",
    "    for epoch in range(2000):\n",
    "        loss = net(train_data.float(), train_labels.float())\n",
    "        loss.backward()\n",
    "        train_losses.append([epoch, loss.item()])\n",
    "        optimizer.step() # Update model parameters using the optimizer's update rule\n",
    "        if epoch % test_every == test_every - 1:\n",
    "            grads = torch.stack([p.grad.abs().max() for p in net.parameters()])\n",
    "            maxg, ming = grads.abs().max(), grads.abs().min()\n",
    "            train_outputs = net.net(train_data.float())\n",
    "            train_preds = (train_outputs.squeeze() > 0.5).float()\n",
    "            train_accuracy = (train_preds == train_labels).float().mean()\n",
    "            train_accs.append([epoch + 1, train_accuracy])\n",
    "            test_outputs = net.net(test_data.float())\n",
    "            test_preds = (test_outputs.squeeze() > 0.5).float()\n",
    "            test_accuracy = (test_preds == test_labels).float().mean()\n",
    "            test_accs.append([epoch + 1, test_accuracy])\n",
    "            print(f'Epoch {epoch+1}, Loss: {loss.item():.5f}, Grad range {maxg:.1e} to {ming:.1e}, '\n",
    "                  f'Train Accuracy: {train_accuracy.item()}, Test Accuracy: {test_accuracy.item()}', end='   \\r')\n",
    "            if test_accuracy.item() == 1.0:\n",
    "                break\n",
    "        optimizer.zero_grad()\n",
    "\n",
    "    # Test the Model\n",
    "    with torch.no_grad():\n",
    "        train_outputs = net.net(train_data.float())\n",
    "        train_preds = (train_outputs.squeeze() > 0.5).float()\n",
    "        train_accuracy = (train_preds == train_labels).float().mean()\n",
    "        test_outputs = net.net(test_data.float())\n",
    "        test_preds = (test_outputs.squeeze() > 0.5).float()\n",
    "        test_accuracy = (test_preds == test_labels).float().mean()\n",
    "        print(f'\\nTrain Accuracy: {train_accuracy.item():.5f}, Test Accuracy: {test_accuracy.item():.5f}')\n",
    "\n",
    "\n",
    "    # Visulaiztion\n",
    "    fig, ax = plt.subplots()\n",
    "    ax2 = ax.twinx()\n",
    "    ax.plot(*zip(*train_losses), label=\"Training loss\")\n",
    "    ax.set_yscale('log')\n",
    "    ax2.plot(*zip(*train_accs), color=\"orange\", label=\"Training accuracy\")\n",
    "    ax2.plot(*zip(*test_accs), color=\"red\", label=\"Test accuracy\")\n",
    "    ax2.set_ylim(0.0, 1.0)\n",
    "    for a in [ax, ax2]:\n",
    "        for pos in 'top right bottom left'.split():\n",
    "            a.spines[pos].set_visible(False)\n",
    "    ax.set_xlabel('Epochs')\n",
    "    ax.set_ylabel('Loss')\n",
    "    ax2.set_ylabel('Accuracy')\n",
    "    fig.legend(loc=\"lower left\", bbox_to_anchor=(0, 0), bbox_transform=ax.transAxes)\n",
    "    fig.show()\n",
    "\n",
    "print(f'Data width {train_data.size(1)}; Constant baseline accuracy {max(test_labels.sum(), len(test_labels) - test_labels.sum()) / len(test_labels):.3f}')"
   ]
  },
  {
   "cell_type": "code",
   "execution_count": 6,
   "id": "cf834078",
   "metadata": {},
   "outputs": [],
   "source": [
    "import numpy as np\n",
    "a = np.array([1,2,0.4])"
   ]
  },
  {
   "cell_type": "code",
   "execution_count": 7,
   "id": "c8bd61b4",
   "metadata": {},
   "outputs": [
    {
     "data": {
      "text/plain": [
       "array([False,  True, False])"
      ]
     },
     "execution_count": 7,
     "metadata": {},
     "output_type": "execute_result"
    }
   ],
   "source": [
    "a>1"
   ]
  },
  {
   "cell_type": "code",
   "execution_count": 8,
   "id": "90a85bcb",
   "metadata": {},
   "outputs": [
    {
     "name": "stdout",
     "output_type": "stream",
     "text": [
      "tensor([[1, 2],\n",
      "        [3, 4],\n",
      "        [5, 6]])\n"
     ]
    }
   ],
   "source": [
    "import torch\n",
    "\n",
    "# Create two tensors\n",
    "tensor1 = torch.tensor([[1, 2], [3, 4]])\n",
    "tensor2 = torch.tensor([[5, 6]])\n",
    "\n",
    "# Concatenate the tensors along the rows (dimension 0)\n",
    "result = torch.cat((tensor1, tensor2), dim=0)\n",
    "\n",
    "print(result)\n"
   ]
  },
  {
   "cell_type": "code",
   "execution_count": 11,
   "id": "806dbfdd",
   "metadata": {},
   "outputs": [],
   "source": [
    "list = []\n",
    "\n",
    "list.append(tensor1)\n",
    "list.append(tensor2)\n",
    "result = torch.cat(list)"
   ]
  },
  {
   "cell_type": "code",
   "execution_count": 12,
   "id": "ca4a3df4",
   "metadata": {},
   "outputs": [
    {
     "data": {
      "text/plain": [
       "tensor([[1, 2],\n",
       "        [3, 4],\n",
       "        [5, 6]])"
      ]
     },
     "execution_count": 12,
     "metadata": {},
     "output_type": "execute_result"
    }
   ],
   "source": [
    "result"
   ]
  },
  {
   "cell_type": "code",
   "execution_count": null,
   "id": "daa52f6f",
   "metadata": {},
   "outputs": [],
   "source": []
  }
 ],
 "metadata": {
  "kernelspec": {
   "display_name": "Python 3",
   "language": "python",
   "name": "python3"
  },
  "language_info": {
   "codemirror_mode": {
    "name": "ipython",
    "version": 3
   },
   "file_extension": ".py",
   "mimetype": "text/x-python",
   "name": "python",
   "nbconvert_exporter": "python",
   "pygments_lexer": "ipython3",
   "version": "3.8.8"
  }
 },
 "nbformat": 4,
 "nbformat_minor": 5
}
